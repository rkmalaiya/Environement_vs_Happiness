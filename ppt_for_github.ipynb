{
 "cells": [
  {
   "cell_type": "markdown",
   "metadata": {},
   "source": [
    "# Multi Variate Analysis\n",
    "\n",
    "## Data set: Environmental Readings per Country\n",
    "\n",
    "### ***Ritesh Malaiya***"
   ]
  },
  {
   "cell_type": "markdown",
   "metadata": {},
   "source": [
    "# Overview"
   ]
  },
  {
   "cell_type": "markdown",
   "metadata": {},
   "source": [
    "# Dataset\n",
    "* Data: Measurements of environment conditions in Countries\n",
    "* Rows: There are 137 observations, 1 for each country.\n",
    "* Columns: Total 29 variables\n",
    "    + Qualitative: Country (nominal), Happiness (Ordinal).\n",
    "    + Quantitative: Aspect, Slope Crop Land, Tree Canopy Wind Cloud & Multiple variables for Temp & Rain\n",
    "    \n",
    "\n",
    "![image1.png](pptimages/image1.png)"
   ]
  },
  {
   "attachments": {},
   "cell_type": "markdown",
   "metadata": {},
   "source": [
    "# Methods\n",
    "\n",
    "## Quantitative\n",
    "\n",
    "* PCA\n",
    "\n",
    "## Qualitative\n",
    "\n",
    "* MCA\n",
    "\n",
    "* DiCA\n",
    "\n",
    "## Grouping variables to observe relative effect among groups\n",
    "\n",
    "* PLS-C\n",
    "\n",
    "* MFA\n",
    "\n",
    "* Cluster Analysis (DiSTATIS)"
   ]
  },
  {
   "attachments": {},
   "cell_type": "markdown",
   "metadata": {},
   "source": [
    "# Correlation Plot \n",
    "\n",
    "![image3.png](pptimages/image3.png)"
   ]
  },
  {
   "attachments": {},
   "cell_type": "markdown",
   "metadata": {},
   "source": [
    "# Heat plot\n",
    "![image2.png](pptimages/image2.png)"
   ]
  },
  {
   "attachments": {},
   "cell_type": "markdown",
   "metadata": {},
   "source": [
    "# Quantitative Analysis\n",
    "## PCA\n",
    "![image4.png](pptimages/image4.png)\n",
    "![image5.png](pptimages/image5.png)\n"
   ]
  },
  {
   "cell_type": "markdown",
   "metadata": {},
   "source": [
    "| **Methods** | **Unhappy**               | **Normal**             | **Very Happy**                | **Reliability**  |\n",
    "|------------------|-------------------------|-----------------------|---------------------------|------------|\n",
    "| **PCA**     | Others                                      | Temp & Rain                         | N/A                     | Components have significant contribution but convex hull has overlapping areas and Component 2 & 7 contradicts |\n"
   ]
  },
  {
   "attachments": {},
   "cell_type": "markdown",
   "metadata": {},
   "source": [
    "# Qualitative Analysis\n",
    "## Data Binning\n",
    "![image6.png](pptimages/image6.png)"
   ]
  },
  {
   "attachments": {},
   "cell_type": "markdown",
   "metadata": {},
   "source": [
    "## MCA\n",
    "![image10.png](pptimages/image10.png)"
   ]
  },
  {
   "attachments": {},
   "cell_type": "markdown",
   "metadata": {},
   "source": [
    "![image11.png](pptimages/image11.png)"
   ]
  },
  {
   "cell_type": "markdown",
   "metadata": {},
   "source": [
    "| **Methods** | **Unhappy**               | **Normal**             | **Very Happy**                | **Reliability**  |\n",
    "|------------------|-------------------------|-----------------------|---------------------------|------------|\n",
    "| **PCA**     | Others                                      | Temp & Rain                         | N/A                     | Components have significant contribution but convex hull has overlapping areas and Component 2 & 7 contradicts |\n",
    "| **MCA**     | warm summers, cold winters, high rain | N/A     | Warm winter, cold summer, low rain    | Components have significant contribution but convex hull has overlapping areas                                 |\n"
   ]
  },
  {
   "cell_type": "markdown",
   "metadata": {},
   "source": [
    "### MCA Inference"
   ]
  },
  {
   "attachments": {},
   "cell_type": "markdown",
   "metadata": {},
   "source": [
    "![image30.png](pptimages/image30.png)"
   ]
  },
  {
   "attachments": {},
   "cell_type": "markdown",
   "metadata": {},
   "source": [
    "![image31.png](pptimages/image31.png)"
   ]
  },
  {
   "cell_type": "markdown",
   "metadata": {},
   "source": [
    "### Discriminant Correspondence Analysis (DiCA)"
   ]
  },
  {
   "attachments": {},
   "cell_type": "markdown",
   "metadata": {},
   "source": [
    "![image33.png](pptimages/image33.png)"
   ]
  },
  {
   "attachments": {},
   "cell_type": "markdown",
   "metadata": {},
   "source": [
    "![image51.png](pptimages/image51.png)"
   ]
  },
  {
   "cell_type": "markdown",
   "metadata": {},
   "source": [
    "| **Methods** | **Unhappy**               | **Normal**             | **Very Happy**                | **Reliability**  |\n",
    "|------------------|-------------------------|-----------------------|---------------------------|------------|\n",
    "| **PCA**     | Others                                      | Temp & Rain                         | N/A                     | Components have significant contribution but convex hull has overlapping areas and Component 2 & 7 contradicts |\n",
    "| **MCA**     | warm summers, cold winters, high rain | N/A     | Warm winter, cold summer, low rain    | Components have significant contribution but convex hull has overlapping areas                                 |\n",
    "| **DiCA**    | warm summers, cold winters, high rain | Higher variation in temperature is correlated with lower happiness | Warm winter, cold summer, low rain, windy | Convex hulls are separeted but second component only has temp variables as significant                         |\n"
   ]
  },
  {
   "attachments": {},
   "cell_type": "markdown",
   "metadata": {},
   "source": [
    "### DiCA Inference\n",
    "\n",
    "![image52.png](pptimages/image52.png)\n",
    "![image53.png](pptimages/image53.png)"
   ]
  },
  {
   "attachments": {},
   "cell_type": "markdown",
   "metadata": {},
   "source": [
    "Grouping variables to observe relative effect among variables"
   ]
  },
  {
   "cell_type": "markdown",
   "metadata": {},
   "source": [
    "## PLS-C"
   ]
  },
  {
   "attachments": {},
   "cell_type": "markdown",
   "metadata": {},
   "source": [
    "![image60.png](pptimages/image60.png)\n",
    "![image61.png](pptimages/image61.png)\n",
    "![image62.png](pptimages/image62.png)\n"
   ]
  },
  {
   "cell_type": "markdown",
   "metadata": {},
   "source": [
    "| **Methods** | **Unhappy**               | **Normal**             | **Very Happy**                | **Reliability**  |\n",
    "|------------------|-------------------------|-----------------------|---------------------------|------------|\n",
    "| **PCA**     | Others                                      | Temp & Rain                         | N/A                     | Components have significant contribution but convex hull has overlapping areas and Component 2 & 7 contradicts |\n",
    "| **MCA**     | warm summers, cold winters, high rain | N/A     | Warm winter, cold summer, low rain    | Components have significant contribution but convex hull has overlapping areas                                 |\n",
    "| **DiCA**    | warm summers, cold winters, high rain | Higher variation in temperature is correlated with lower happiness | Warm winter, cold summer, low rain, windy | Convex hulls are separeted but second component only has temp variables as significant                         |\n",
    "| **PLS-C**   | Rain                                      | Temp                         | Temp                                      | Second component has more rain variables as significant than temp variables                                    |\n"
   ]
  },
  {
   "cell_type": "markdown",
   "metadata": {},
   "source": [
    "## Multi Factor Analysis"
   ]
  },
  {
   "attachments": {},
   "cell_type": "markdown",
   "metadata": {},
   "source": [
    "![image63.png](pptimages/image63.png)"
   ]
  },
  {
   "cell_type": "markdown",
   "metadata": {},
   "source": [
    "| **Methods** | **Unhappy**               | **Normal**             | **Very Happy**                | **Reliability**  |\n",
    "|------------------|-------------------------|-----------------------|---------------------------|------------|\n",
    "| **PCA**     | Others                                      | Temp & Rain                         | N/A                     | Components have significant contribution but convex hull has overlapping areas and Component 2 & 7 contradicts |\n",
    "| **MCA**     | warm summers, cold winters, high rain | N/A     | Warm winter, cold summer, low rain    | Components have significant contribution but convex hull has overlapping areas                                 |\n",
    "| **DiCA**    | warm summers, cold winters, high rain | Higher variation in temperature is correlated with lower happiness | Warm winter, cold summer, low rain, windy | Convex hulls are separeted but second component only has temp variables as significant                         |\n",
    "| **PLS-C**   | Rain                                      | Temp                         | Temp                                      | Second component has more rain variables as significant than temp variables                                    |\n",
    "| **MFA**     |  Partial factors dominated by Temp, then rain and other variables   | Neither of partial factors seems to have sufficient effect       |  Partial factors dominated by Temp and other variables, lesser effect of rain         | Convex hull has overlapping areas                                                                              |\n"
   ]
  },
  {
   "cell_type": "markdown",
   "metadata": {},
   "source": [
    "## Cluster Analysis - DiSTATIS"
   ]
  },
  {
   "cell_type": "markdown",
   "metadata": {},
   "source": [
    "### Kmeans"
   ]
  },
  {
   "attachments": {},
   "cell_type": "markdown",
   "metadata": {},
   "source": [
    "![image64.png](pptimages/image64.png)\n",
    "![image65.png](pptimages/image65.png)\n",
    "![image66.png](pptimages/image66.png)"
   ]
  },
  {
   "cell_type": "markdown",
   "metadata": {},
   "source": [
    "# Conclusion"
   ]
  },
  {
   "cell_type": "markdown",
   "metadata": {},
   "source": [
    "* **MCA** and **DiCA** agrees: \n",
    "  - Warmer winter, colder summer, low rain, windy cities makes people *happy*\n",
    "  - Colder Winter, warmer summers, high rain, less windy makes people *unhappy*\n",
    "\n",
    "\n",
    "However, even though **MCA** shows that most the variables has high contribution for the strongest signal in the data - **DiCA** shows that temp, rain and wind variables contributes significantly.\n",
    "\n",
    "*Hence*, \n",
    "\n",
    "* Happiness doesn’t seem to be highly correlated to environmental conditions\n",
    "* Temperature, rain and wind seem to be slightly correlated with happiness.\n",
    "* Cluster Analysis doesn’t seem to show any patterns in the data."
   ]
  },
  {
   "cell_type": "markdown",
   "metadata": {},
   "source": []
  }
 ],
 "metadata": {
  "kernelspec": {
   "display_name": "Python 3",
   "language": "python",
   "name": "python3"
  },
  "language_info": {
   "codemirror_mode": {
    "name": "ipython",
    "version": 3
   },
   "file_extension": ".py",
   "mimetype": "text/x-python",
   "name": "python",
   "nbconvert_exporter": "python",
   "pygments_lexer": "ipython3",
   "version": "3.6.6"
  },
  "latex_envs": {
   "LaTeX_envs_menu_present": true,
   "autoclose": true,
   "autocomplete": true,
   "bibliofile": "biblio.bib",
   "cite_by": "apalike",
   "current_citInitial": 1,
   "eqLabelWithNumbers": true,
   "eqNumInitial": 1,
   "hotkeys": {
    "equation": "Ctrl-E",
    "itemize": "Ctrl-I"
   },
   "labels_anchors": false,
   "latex_user_defs": false,
   "report_style_numbering": false,
   "user_envs_cfg": false
  }
 },
 "nbformat": 4,
 "nbformat_minor": 2
}
